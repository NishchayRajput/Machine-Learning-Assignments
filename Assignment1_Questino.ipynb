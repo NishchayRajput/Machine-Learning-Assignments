{
  "nbformat": 4,
  "nbformat_minor": 0,
  "metadata": {
    "colab": {
      "provenance": []
    },
    "kernelspec": {
      "name": "python3",
      "display_name": "Python 3"
    },
    "language_info": {
      "name": "python"
    }
  },
  "cells": [
    {
      "cell_type": "code",
      "execution_count": 1,
      "metadata": {
        "colab": {
          "base_uri": "https://localhost:8080/"
        },
        "id": "3t6dAm3h0djx",
        "outputId": "95681f79-b105-4eb8-99d6-68889b20551d"
      },
      "outputs": [
        {
          "output_type": "stream",
          "name": "stdout",
          "text": [
            "   fixed acidity  volatile acidity  citric acid  residual sugar  chlorides  \\\n",
            "0            7.4              0.70         0.00             1.9      0.076   \n",
            "1            7.8              0.88         0.00             2.6      0.098   \n",
            "2            7.8              0.76         0.04             2.3      0.092   \n",
            "3           11.2              0.28         0.56             1.9      0.075   \n",
            "4            7.4              0.70         0.00             1.9      0.076   \n",
            "\n",
            "   free sulfur dioxide  total sulfur dioxide  density    pH  sulphates  \\\n",
            "0                 11.0                  34.0   0.9978  3.51       0.56   \n",
            "1                 25.0                  67.0   0.9968  3.20       0.68   \n",
            "2                 15.0                  54.0   0.9970  3.26       0.65   \n",
            "3                 17.0                  60.0   0.9980  3.16       0.58   \n",
            "4                 11.0                  34.0   0.9978  3.51       0.56   \n",
            "\n",
            "   alcohol  quality  Id  \n",
            "0      9.4        5   0  \n",
            "1      9.8        5   1  \n",
            "2      9.8        5   2  \n",
            "3      9.8        6   3  \n",
            "4      9.4        5   4  \n",
            "<class 'pandas.core.frame.DataFrame'>\n",
            "RangeIndex: 1143 entries, 0 to 1142\n",
            "Data columns (total 13 columns):\n",
            " #   Column                Non-Null Count  Dtype  \n",
            "---  ------                --------------  -----  \n",
            " 0   fixed acidity         1143 non-null   float64\n",
            " 1   volatile acidity      1143 non-null   float64\n",
            " 2   citric acid           1143 non-null   float64\n",
            " 3   residual sugar        1143 non-null   float64\n",
            " 4   chlorides             1143 non-null   float64\n",
            " 5   free sulfur dioxide   1143 non-null   float64\n",
            " 6   total sulfur dioxide  1143 non-null   float64\n",
            " 7   density               1143 non-null   float64\n",
            " 8   pH                    1143 non-null   float64\n",
            " 9   sulphates             1143 non-null   float64\n",
            " 10  alcohol               1143 non-null   float64\n",
            " 11  quality               1143 non-null   int64  \n",
            " 12  Id                    1143 non-null   int64  \n",
            "dtypes: float64(11), int64(2)\n",
            "memory usage: 116.2 KB\n",
            "None\n",
            "   fixed acidity  volatile acidity  citric acid  residual sugar  chlorides  \\\n",
            "0            7.4              0.70         0.00             1.9      0.076   \n",
            "1            7.8              0.88         0.00             2.6      0.098   \n",
            "2            7.8              0.76         0.04             2.3      0.092   \n",
            "3           11.2              0.28         0.56             1.9      0.075   \n",
            "4            7.4              0.70         0.00             1.9      0.076   \n",
            "\n",
            "   free sulfur dioxide  total sulfur dioxide  density    pH  sulphates  \\\n",
            "0                 11.0                  34.0   0.9978  3.51       0.56   \n",
            "1                 25.0                  67.0   0.9968  3.20       0.68   \n",
            "2                 15.0                  54.0   0.9970  3.26       0.65   \n",
            "3                 17.0                  60.0   0.9980  3.16       0.58   \n",
            "4                 11.0                  34.0   0.9978  3.51       0.56   \n",
            "\n",
            "   alcohol  quality  Id  \n",
            "0      9.4        0   0  \n",
            "1      9.8        0   1  \n",
            "2      9.8        0   2  \n",
            "3      9.8        0   3  \n",
            "4      9.4        0   4  \n",
            "   fixed acidity  volatile acidity  citric acid  residual sugar  chlorides  \\\n",
            "0       0.247788          0.397260         0.00        0.068493   0.106845   \n",
            "1       0.283186          0.520548         0.00        0.116438   0.143573   \n",
            "2       0.283186          0.438356         0.04        0.095890   0.133556   \n",
            "3       0.584071          0.109589         0.56        0.068493   0.105175   \n",
            "4       0.247788          0.397260         0.00        0.068493   0.106845   \n",
            "\n",
            "   free sulfur dioxide  total sulfur dioxide   density        pH  sulphates  \\\n",
            "0             0.149254              0.098940  0.567548  0.606299   0.137725   \n",
            "1             0.358209              0.215548  0.494126  0.362205   0.209581   \n",
            "2             0.208955              0.169611  0.508811  0.409449   0.191617   \n",
            "3             0.238806              0.190813  0.582232  0.330709   0.149701   \n",
            "4             0.149254              0.098940  0.567548  0.606299   0.137725   \n",
            "\n",
            "    alcohol        Id  quality  \n",
            "0  0.153846  0.000000        0  \n",
            "1  0.215385  0.000626        0  \n",
            "2  0.215385  0.001252        0  \n",
            "3  0.215385  0.001879        0  \n",
            "4  0.153846  0.002505        0  \n"
          ]
        }
      ],
      "source": [
        "# Import essential libraries\n",
        "import numpy as np\n",
        "import pandas as pd\n",
        "from sklearn.preprocessing import MinMaxScaler\n",
        "\n",
        "# Load the wine quality dataset\n",
        "wine_data = pd.read_csv('WineQT.csv')\n",
        "\n",
        "# Display the initial few records of the dataset\n",
        "print(wine_data.head())\n",
        "\n"
      ]
    },
    {
      "cell_type": "code",
      "source": [
        "# Get a summary of the dataset structure\n",
        "print(wine_data.info())\n",
        "\n"
      ],
      "metadata": {
        "colab": {
          "base_uri": "https://localhost:8080/"
        },
        "id": "urcO2WbJ1c2h",
        "outputId": "9ae7e634-2392-4417-b4ad-ad13f233171a"
      },
      "execution_count": 2,
      "outputs": [
        {
          "output_type": "stream",
          "name": "stdout",
          "text": [
            "<class 'pandas.core.frame.DataFrame'>\n",
            "RangeIndex: 1143 entries, 0 to 1142\n",
            "Data columns (total 13 columns):\n",
            " #   Column                Non-Null Count  Dtype  \n",
            "---  ------                --------------  -----  \n",
            " 0   fixed acidity         1143 non-null   float64\n",
            " 1   volatile acidity      1143 non-null   float64\n",
            " 2   citric acid           1143 non-null   float64\n",
            " 3   residual sugar        1143 non-null   float64\n",
            " 4   chlorides             1143 non-null   float64\n",
            " 5   free sulfur dioxide   1143 non-null   float64\n",
            " 6   total sulfur dioxide  1143 non-null   float64\n",
            " 7   density               1143 non-null   float64\n",
            " 8   pH                    1143 non-null   float64\n",
            " 9   sulphates             1143 non-null   float64\n",
            " 10  alcohol               1143 non-null   float64\n",
            " 11  quality               1143 non-null   int64  \n",
            " 12  Id                    1143 non-null   int64  \n",
            "dtypes: float64(11), int64(2)\n",
            "memory usage: 116.2 KB\n",
            "None\n"
          ]
        }
      ]
    },
    {
      "cell_type": "code",
      "source": [
        "# Convert the 'quality' column to a binary classification:\n",
        "# 1 for quality > 6, otherwise 0\n",
        "wine_data['quality'] = wine_data['quality'].apply(lambda quality: 1 if quality > 6 else 0)\n",
        "print(wine_data.head())\n"
      ],
      "metadata": {
        "colab": {
          "base_uri": "https://localhost:8080/"
        },
        "id": "VwTDZjUS1etH",
        "outputId": "faa2a875-9608-4d92-d0c0-9cdcd15ce8cb"
      },
      "execution_count": 3,
      "outputs": [
        {
          "output_type": "stream",
          "name": "stdout",
          "text": [
            "   fixed acidity  volatile acidity  citric acid  residual sugar  chlorides  \\\n",
            "0            7.4              0.70         0.00             1.9      0.076   \n",
            "1            7.8              0.88         0.00             2.6      0.098   \n",
            "2            7.8              0.76         0.04             2.3      0.092   \n",
            "3           11.2              0.28         0.56             1.9      0.075   \n",
            "4            7.4              0.70         0.00             1.9      0.076   \n",
            "\n",
            "   free sulfur dioxide  total sulfur dioxide  density    pH  sulphates  \\\n",
            "0                 11.0                  34.0   0.9978  3.51       0.56   \n",
            "1                 25.0                  67.0   0.9968  3.20       0.68   \n",
            "2                 15.0                  54.0   0.9970  3.26       0.65   \n",
            "3                 17.0                  60.0   0.9980  3.16       0.58   \n",
            "4                 11.0                  34.0   0.9978  3.51       0.56   \n",
            "\n",
            "   alcohol  quality  Id  \n",
            "0      9.4        0   0  \n",
            "1      9.8        0   1  \n",
            "2      9.8        0   2  \n",
            "3      9.8        0   3  \n",
            "4      9.4        0   4  \n"
          ]
        }
      ]
    },
    {
      "cell_type": "code",
      "source": [
        "\n",
        "# Normalize the feature columns using MinMaxScaler, excluding the 'quality' column\n",
        "scaler = MinMaxScaler()\n",
        "normalized_features = scaler.fit_transform(wine_data.drop('quality', axis=1))\n"
      ],
      "metadata": {
        "id": "fg2Z5Mdg1gJO"
      },
      "execution_count": 4,
      "outputs": []
    },
    {
      "cell_type": "code",
      "source": [
        "\n",
        "# Create a new DataFrame with the normalized features\n",
        "normalized_wine_data = pd.DataFrame(normalized_features, columns=wine_data.drop('quality', axis=1).columns)\n",
        "\n"
      ],
      "metadata": {
        "id": "zMhs0S4V1heX"
      },
      "execution_count": 5,
      "outputs": []
    },
    {
      "cell_type": "code",
      "source": [
        "# Reattach the 'quality' column to the normalized DataFrame\n",
        "normalized_wine_data['quality'] = wine_data['quality']\n",
        "\n",
        "# Display the initial few records of the normalized dataset\n",
        "print(normalized_wine_data.head())\n"
      ],
      "metadata": {
        "colab": {
          "base_uri": "https://localhost:8080/"
        },
        "id": "1n9MLqOz1i6O",
        "outputId": "97b1731d-8b57-4414-ea12-06b10b649636"
      },
      "execution_count": 6,
      "outputs": [
        {
          "output_type": "stream",
          "name": "stdout",
          "text": [
            "   fixed acidity  volatile acidity  citric acid  residual sugar  chlorides  \\\n",
            "0       0.247788          0.397260         0.00        0.068493   0.106845   \n",
            "1       0.283186          0.520548         0.00        0.116438   0.143573   \n",
            "2       0.283186          0.438356         0.04        0.095890   0.133556   \n",
            "3       0.584071          0.109589         0.56        0.068493   0.105175   \n",
            "4       0.247788          0.397260         0.00        0.068493   0.106845   \n",
            "\n",
            "   free sulfur dioxide  total sulfur dioxide   density        pH  sulphates  \\\n",
            "0             0.149254              0.098940  0.567548  0.606299   0.137725   \n",
            "1             0.358209              0.215548  0.494126  0.362205   0.209581   \n",
            "2             0.208955              0.169611  0.508811  0.409449   0.191617   \n",
            "3             0.238806              0.190813  0.582232  0.330709   0.149701   \n",
            "4             0.149254              0.098940  0.567548  0.606299   0.137725   \n",
            "\n",
            "    alcohol        Id  quality  \n",
            "0  0.153846  0.000000        0  \n",
            "1  0.215385  0.000626        0  \n",
            "2  0.215385  0.001252        0  \n",
            "3  0.215385  0.001879        0  \n",
            "4  0.153846  0.002505        0  \n"
          ]
        }
      ]
    },
    {
      "cell_type": "code",
      "source": [],
      "metadata": {
        "id": "_oAhIUUH0s1N"
      },
      "execution_count": null,
      "outputs": []
    }
  ]
}